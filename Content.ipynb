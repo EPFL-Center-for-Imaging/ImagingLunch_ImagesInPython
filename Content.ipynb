{
 "cells": [
  {
   "cell_type": "markdown",
   "id": "e123b8e5",
   "metadata": {
    "editable": true,
    "slideshow": {
     "slide_type": "slide"
    },
    "tags": []
   },
   "source": [
    "![logo](https://imaging.epfl.ch/resources/logo-for-gitlab.svg)\n",
    "\n",
    "<h1>Imaging Lunch: Introduction to Python for Image Analysis</h1>\n",
    "\n",
    "This notebook introduces the basics of image handling and manipulation in Python, using <a href=\"https://scikit-image.org/\">Scikit-image</a>, <a href=\"https://matplotlib.org/stable/\">Matplotlib</a>, and <a href=\"https://numpy.org/\">Numpy</a>.\n",
    "\n",
    "➡️ <a href=\"https://github.com/EPFL-Center-for-Imaging/ImagingLunch_ImagesInPython\">Git repository</a>."
   ]
  },
  {
   "cell_type": "markdown",
   "id": "01e44911",
   "metadata": {
    "editable": true,
    "slideshow": {
     "slide_type": "subslide"
    },
    "tags": []
   },
   "source": [
    "```{admonition} How to use this notebook?\n",
    "This document is an interactive <a href=\"https://jupyter.org/\">Jupyter notebook</a>. Use `Shift`+`Enter` to run individual code cells.\n",
    "```"
   ]
  },
  {
   "cell_type": "markdown",
   "id": "6507408c",
   "metadata": {
    "editable": true,
    "slideshow": {
     "slide_type": "fragment"
    },
    "tags": []
   },
   "source": [
    "## Why use Python for image analysis?\n",
    "\n",
    "- ✅ Easy to learn and use\n",
    "- ✅ Free & open-source\n",
    "- ✅ Wide range of libraries\n",
    "- ✅ Implement custom functions & tools\n",
    "- ✅ Automate image analysis via scripts\n",
    "- ✅ Deep learning & data science\n",
    "- ✅ Explore data in Juptyer notebooks"
   ]
  },
  {
   "cell_type": "markdown",
   "id": "4a377b85",
   "metadata": {
    "editable": true,
    "slideshow": {
     "slide_type": "subslide"
    },
    "tags": []
   },
   "source": [
    "## Contents\n",
    "\n",
    "We'll cover the following topics:\n",
    "\n",
    "- <a href=\"#opening-our-first-image\">Opening our first image</a>\n",
    "- <a href=\"#how-are-digital-images-represented-in-python\">How are digital images represented in Python?</a>\n",
    "- <a href=\"#selecting-and-modifying-pixel-values\">Selecting and modifying pixel values</a>\n",
    "- <a href=\"#opening-images-from-files\">Opening images from files</a>\n",
    "- <a href=\"#applying-image-processing-filters\">Applying image processing filters</a>\n",
    "- <a href=\"#thresholding\">Thresholding</a>\n",
    "- <a href=\"#analyzing-individual-objects\">Analyzing individual objects</a>"
   ]
  },
  {
   "cell_type": "markdown",
   "id": "048880e7",
   "metadata": {},
   "source": [
    "## Packages\n",
    "\n",
    "We'll use the packages listed in the requirements file (<a href=\"./requirements.txt\">requirements.txt</a>). To make sure you have installed these packages, you can run the Jupyter \"magic\" command below:"
   ]
  },
  {
   "cell_type": "code",
   "execution_count": null,
   "id": "2c396e26",
   "metadata": {},
   "outputs": [],
   "source": [
    "%pip install -qr requirements.txt"
   ]
  },
  {
   "cell_type": "markdown",
   "id": "fea92a32",
   "metadata": {},
   "source": [
    "## Imports\n",
    "\n",
    "We start by importing the `data` module from <a href=\"https://scikit-image.org/\">Scikit-image</a>, which provides example images, and Matplotlib's `pyplot` module which we'll use to display images."
   ]
  },
  {
   "cell_type": "code",
   "execution_count": null,
   "id": "b7d86ee6",
   "metadata": {},
   "outputs": [],
   "source": [
    "from skimage import data\n",
    "import matplotlib.pyplot as plt"
   ]
  },
  {
   "cell_type": "markdown",
   "id": "3bbc291b",
   "metadata": {},
   "source": [
    "## Opening our first image\n",
    "\n",
    "Let's load an example image provided by Scikit-image's `data` module. We'll display it using Matplotlib's `imshow` function."
   ]
  },
  {
   "cell_type": "code",
   "execution_count": null,
   "id": "cb968ded",
   "metadata": {},
   "outputs": [],
   "source": [
    "image = data.chelsea()\n",
    "\n",
    "plt.imshow(image);"
   ]
  },
  {
   "cell_type": "markdown",
   "id": "d33525a0",
   "metadata": {},
   "source": [
    "## How are digital images represented in Python?\n",
    "\n",
    "Let's print the `type` of our image variable."
   ]
  },
  {
   "cell_type": "code",
   "execution_count": null,
   "id": "6da079f8",
   "metadata": {},
   "outputs": [],
   "source": [
    "type(image)"
   ]
  },
  {
   "cell_type": "markdown",
   "id": "3b752352",
   "metadata": {},
   "source": [
    "We've managed to read the image into a **Numpy array**. Numpy arrays sit at the foundation of the scientific Python ecosystem, and are also the most common way of representing images in Python.\n",
    "\n",
    "Our image is really just an array of numbers:"
   ]
  },
  {
   "cell_type": "code",
   "execution_count": null,
   "id": "7095ea73",
   "metadata": {},
   "outputs": [],
   "source": [
    "image"
   ]
  },
  {
   "cell_type": "markdown",
   "id": "f748e9c9",
   "metadata": {},
   "source": [
    "We can inspect the array's **attributes**, such as its `dtype` (data type), which tells us what kind of numbers are stored in the image array:"
   ]
  },
  {
   "cell_type": "code",
   "execution_count": null,
   "id": "2f56bcd8",
   "metadata": {},
   "outputs": [],
   "source": [
    "image.dtype"
   ]
  },
  {
   "cell_type": "markdown",
   "id": "26540b56",
   "metadata": {},
   "source": [
    "Common types include **integers** such as 8-bit unsigned (`uint8`) used to store integer values between 0 and 255. There are also **floating-point** types (`float32`, `float64`) that store arrays of decimal numbers. Arrays encoded in a higher number of bits (32, 64) take up more space in memory, but allow to store larger numbers and to perform certain computations with more precision."
   ]
  },
  {
   "cell_type": "markdown",
   "id": "4889df67",
   "metadata": {},
   "source": [
    "Next, we can examine the image's `shape` attribute, which gives us the size of the pixel grid:"
   ]
  },
  {
   "cell_type": "code",
   "execution_count": null,
   "id": "6d06fa0a",
   "metadata": {},
   "outputs": [],
   "source": [
    "image.shape"
   ]
  },
  {
   "cell_type": "markdown",
   "id": "341295b9",
   "metadata": {},
   "source": [
    "In this case, we have loaded an image of 300 x 451 pixels, which also contains three color channels (RGB).\n",
    "\n",
    "We can display the color channels separately. Below, we create a `Figure` object with subplots for the red, green and blue channels, respectively:"
   ]
  },
  {
   "cell_type": "code",
   "execution_count": null,
   "id": "b858a06e",
   "metadata": {},
   "outputs": [],
   "source": [
    "fig, (ax1, ax2, ax3) = plt.subplots(figsize=(16, 8), ncols=3)\n",
    "ax1.imshow(image[:, :, 0], cmap=\"gray\")\n",
    "ax2.imshow(image[:, :, 1], cmap=\"gray\")\n",
    "ax3.imshow(image[:, :, 2], cmap=\"gray\")\n",
    "plt.show()"
   ]
  },
  {
   "cell_type": "markdown",
   "id": "efa6f24e-bc69-4881-a6e6-d5cdfde93a43",
   "metadata": {},
   "source": [
    "Or convert the image to grayscale (the gray value is calculated as: `Y = 0.2125 R + 0.7154 G + 0.0721 B`):"
   ]
  },
  {
   "cell_type": "code",
   "execution_count": null,
   "id": "d72b3e75",
   "metadata": {},
   "outputs": [],
   "source": [
    "from skimage.color import rgb2gray\n",
    "\n",
    "gray_image = rgb2gray(image)\n",
    "\n",
    "plt.imshow(gray_image);\n",
    "\n",
    "print(\"Image shape: \", gray_image.shape)\n",
    "print(\"Data type: \", gray_image.dtype)\n",
    "print(\"Min value: \", gray_image.min())\n",
    "print(\"Max value: \", gray_image.max())"
   ]
  },
  {
   "cell_type": "markdown",
   "id": "8121b4ed",
   "metadata": {},
   "source": [
    "By default, Matplotlib uses the `viridis` **colormap** to display images. We can change the colormap by specifying a value for the `cmap` parameter of the `imshow` function (<a href=\"https://matplotlib.org/stable/users/explain/colors/colormaps.html\">docs</a>)."
   ]
  },
  {
   "cell_type": "code",
   "execution_count": null,
   "id": "f0ddfe75",
   "metadata": {},
   "outputs": [],
   "source": [
    "fig, (ax1, ax2, ax3) = plt.subplots(figsize=(16, 8), ncols=3)\n",
    "ax1.imshow(gray_image, cmap=\"viridis\")\n",
    "ax2.imshow(gray_image, cmap=\"gray\")\n",
    "ax3.imshow(gray_image, cmap=\"inferno\")\n",
    "plt.show()"
   ]
  },
  {
   "cell_type": "markdown",
   "id": "4c9d7ea4",
   "metadata": {},
   "source": [
    "If we want to use the \"gray\" colormap by default instead of \"viridis\", we can set:"
   ]
  },
  {
   "cell_type": "code",
   "execution_count": null,
   "id": "56825f48",
   "metadata": {},
   "outputs": [],
   "source": [
    "import matplotlib\n",
    "\n",
    "matplotlib.rc(\"image\", cmap=\"gray\")"
   ]
  },
  {
   "cell_type": "markdown",
   "id": "4b0361af",
   "metadata": {},
   "source": [
    "Finally, we can add a color bar to display the range of pixel values, and set the minimum and maximum values of the colorbar with the `vmin` and `vmax` parameters."
   ]
  },
  {
   "cell_type": "code",
   "execution_count": null,
   "id": "201407e4",
   "metadata": {},
   "outputs": [],
   "source": [
    "fig, ax = plt.subplots(dpi=200)\n",
    "im = ax.imshow(gray_image, vmin=0, vmax=1)\n",
    "ax.set_axis_off()  # Hide the axes\n",
    "fig.colorbar(im)\n",
    "plt.show()"
   ]
  },
  {
   "cell_type": "markdown",
   "id": "b50ef930",
   "metadata": {},
   "source": [
    "```{note} Beyond Matplotlib\n",
    "Matplotlib is suitable for many simple visualization cases. However, other visualization libraries exist in Python. For example:\n",
    "\n",
    "- <a href=\"https://napari.org/\">Napari</a>\n",
    "- <a href=\"https://plotly.com/python/imshow/\">Plotly</a>\n",
    "- <a href=\"https://github.com/haesleinhuepf/stackview?tab=readme-ov-file\">Stackview</a>\n",
    "```"
   ]
  },
  {
   "cell_type": "markdown",
   "id": "a0d4a845",
   "metadata": {},
   "source": [
    "## Selecting and modifying pixel values\n",
    "\n",
    "Since images are just Numpy arrays, we can apply any array operations to them. To select a subset of pixels in a region of interest in the image, we can use Numpy **indexing** along each axis, using the syntax `a[start:stop:step]`\n",
    "\n",
    "In the example below, we \"crop\" the image along X and Y using this technique:"
   ]
  },
  {
   "cell_type": "code",
   "execution_count": null,
   "id": "643dbf0a",
   "metadata": {},
   "outputs": [],
   "source": [
    "crop = image[70:160, 120:230]\n",
    "\n",
    "plt.imshow(crop);"
   ]
  },
  {
   "cell_type": "markdown",
   "id": "35d33f48",
   "metadata": {},
   "source": [
    "Similarly, we can select and change pixel values in our image. For example:"
   ]
  },
  {
   "cell_type": "code",
   "execution_count": null,
   "id": "d13aa7bb",
   "metadata": {},
   "outputs": [],
   "source": [
    "image[50:100, 50:100] = [255, 0, 0]\n",
    "\n",
    "plt.imshow(image);"
   ]
  },
  {
   "cell_type": "markdown",
   "id": "0ecac4db",
   "metadata": {},
   "source": [
    "```{note} Image coordinates\n",
    "The origin of the image coordinates is in the top-left corner of the image. To remember this, we can imagine the image as a table of values, where the first axis corresponds to rows and the second axis to columns of pixels.\n",
    "\n",
    "![coordinates](./assets/image-coordinates.png)\n",
    "```"
   ]
  },
  {
   "cell_type": "markdown",
   "id": "d7fcc628",
   "metadata": {},
   "source": [
    "## Opening images from files\n",
    "\n",
    "To work with real scientific images in Python, the first step is usually to open them from files and load the image data into memory as Numpy arrays.\n",
    "\n",
    "To do this, we need to use a library that can recognize the file format that we are dealing with. For common file formats (e.g. TIFF) we can use the `imread` function from Scikit-image."
   ]
  },
  {
   "cell_type": "code",
   "execution_count": null,
   "id": "f912a22d",
   "metadata": {},
   "outputs": [],
   "source": [
    "import skimage.io\n",
    "\n",
    "# Image source: VIATICALPES (https://catima.unil.ch/viatimages/en)\n",
    "image = skimage.io.imread(\"limat_fish.tif\")\n",
    "\n",
    "plt.imshow(image);\n",
    "\n",
    "print(\"Image shape: \", image.shape)\n",
    "print(\"Data type: \", image.dtype)\n",
    "print(\"Min value: \", image.min())\n",
    "print(\"Max value: \", image.max())"
   ]
  },
  {
   "cell_type": "markdown",
   "id": "83e2865e",
   "metadata": {},
   "source": [
    "```{note} Image formats\n",
    "To open certain specific formats (e.g. microscopy or astronomy data formats), we may need to install and use dedicated libraries.\n",
    "\n",
    "Below are a few examples.\n",
    "\n",
    "| Files             | Examples                        | Library |\n",
    "|-------------------|---------------------------------| ------ |\n",
    "| Common formats | `.tif`, `.png`, `.jpg` | `scikit-image`, `Pillow`, `tifffile`, `OpenCV` |\n",
    "| Biological formats  |  `.czi`, `.lif`, `.ome.tiff` | `bioio` |\n",
    "| Specific formats  | `.mrc`, `.hdf5`, `.fits` | `mrcfile`, `h5py`, `fitsio` |\n",
    "```"
   ]
  },
  {
   "cell_type": "markdown",
   "id": "0f1e1af1",
   "metadata": {},
   "source": [
    "Once again, we have loaded our image into a Numpy array. Notice that this is a grayscale image, with a size of 722 x 1037 pixels."
   ]
  },
  {
   "cell_type": "markdown",
   "id": "fbb7131f",
   "metadata": {},
   "source": [
    "## Applying image processing filters\n",
    "\n",
    "Image processing filters are operations applied to the whole image, for example to remove noise, sharpen details, detect edges, or rescale the image intensity values.\n",
    "\n",
    "The scikit-image <a href=\"https://scikit-image.org/docs/0.25.x/api/skimage.filters.html\">filters</a> module offers a wide range of image processing filters to choose from. For example, to apply a Gaussian filter:"
   ]
  },
  {
   "cell_type": "code",
   "execution_count": null,
   "id": "341b3f14",
   "metadata": {},
   "outputs": [],
   "source": [
    "from skimage.filters import gaussian\n",
    "\n",
    "blurred_img = gaussian(image, sigma=4.0)\n",
    "\n",
    "plt.imshow(blurred_img);"
   ]
  },
  {
   "cell_type": "markdown",
   "id": "ae93c1d6",
   "metadata": {},
   "source": [
    "The intensity of the blur is controlled by the value of `sigma`, the scale of the Gaussian kernel. We can try differnt values of `sigma` to understand its effect:"
   ]
  },
  {
   "cell_type": "code",
   "execution_count": null,
   "id": "b92d3c61",
   "metadata": {},
   "outputs": [],
   "source": [
    "sigmas = [0, 1, 4, 8]\n",
    "\n",
    "n_sigmas = len(sigmas)\n",
    "\n",
    "fig, axes = plt.subplots(figsize=(16, 4), ncols=n_sigmas)\n",
    "for sigma, ax in zip(sigmas, axes):\n",
    "    blurred_img = gaussian(image, sigma=sigma)\n",
    "    ax.set_title(f\"{sigma=}\")\n",
    "    ax.set_axis_off()\n",
    "    ax.imshow(blurred_img)\n",
    "plt.show()"
   ]
  },
  {
   "cell_type": "markdown",
   "id": "8e8b00e8",
   "metadata": {},
   "source": [
    "````{admonition} Where to find documentation?\n",
    "\n",
    "In the code, we can always access a function's documentation using the `help` function (for example: `help(gaussian)`).\n",
    "\n",
    "It is also useful to search for a function via the Scikit-image <a href=\"https://scikit-image.org/docs/0.25.x/api/api.html\">API reference</a>, which links to usage examples from the Scikit-image <a href=\"https://scikit-image.org/docs/stable/auto_examples\">Gallery</a>.\n",
    "````"
   ]
  },
  {
   "cell_type": "markdown",
   "id": "ecb00637",
   "metadata": {},
   "source": [
    "## Thresholding\n",
    "\n",
    "Thresholding (\"binarizing\") an image based on pixel values helps us separate the foreground from the background of the image based on intensity values. The result of applying a threshold is a **binary segmentation mask** that can be used to locate, count, or anlayze the size and shape of structures of interest.\n",
    "\n",
    "To determine a suitable threshold to apply to our image, let's take a look at the histogram of pixel intensity values."
   ]
  },
  {
   "cell_type": "code",
   "execution_count": null,
   "id": "4063ccbc",
   "metadata": {},
   "outputs": [],
   "source": [
    "fig, (ax1, ax2) = plt.subplots(figsize=(12, 5), ncols=2)\n",
    "ax1.imshow(image)\n",
    "ax2.hist(image.flatten(), bins=50, log=True)\n",
    "plt.show()"
   ]
  },
  {
   "cell_type": "markdown",
   "id": "c969b597",
   "metadata": {},
   "source": [
    "With Numpy, we can effectively create a **boolean mask** from the image array, where pixels satisfying a given condition are set to `True` and other pixels are set to `False`.\n",
    "\n",
    "In the case of thresholding, this technique involves selecting all pixels greater (or lower) than a given value:"
   ]
  },
  {
   "cell_type": "code",
   "execution_count": null,
   "id": "692330cb",
   "metadata": {},
   "outputs": [],
   "source": [
    "binary_img = image < 200\n",
    "\n",
    "binary_img"
   ]
  },
  {
   "cell_type": "code",
   "execution_count": null,
   "id": "254c54bd",
   "metadata": {},
   "outputs": [],
   "source": [
    "plt.imshow(binary_img, interpolation=\"none\");"
   ]
  },
  {
   "cell_type": "markdown",
   "id": "0a916dce",
   "metadata": {},
   "source": [
    "````{note} Automatic thresholding\n",
    "\n",
    "The example above works fine, however we selected our threshold rather arbitrarily. To improve reproducibility, we could use **automatic threshold algorithms** such as <a href=\"https://en.wikipedia.org/wiki/Otsu's_method\">Otsu's method</a> to automatically estimate an appropriate threshold value.\n",
    "\n",
    "With Scikit-image, you can try:\n",
    "\n",
    "```\n",
    "from skimage.filters import threshold_otsu\n",
    "\n",
    "thresh = threshold_otsu(image)\n",
    "\n",
    "binary_img = image > thresh\n",
    "```\n",
    "````"
   ]
  },
  {
   "cell_type": "markdown",
   "id": "d9cb2860",
   "metadata": {},
   "source": [
    "We can further process our binary mask by filling in the morphological \"holes\" (here, we use an implementation from the <a href=\"https://docs.scipy.org/doc/scipy/reference/ndimage.html\">scipy.ndimage</a> module)."
   ]
  },
  {
   "cell_type": "code",
   "execution_count": null,
   "id": "e97999ae",
   "metadata": {},
   "outputs": [],
   "source": [
    "from scipy.ndimage import binary_fill_holes\n",
    "\n",
    "binary_img = binary_fill_holes(binary_img)\n",
    "\n",
    "plt.imshow(binary_img);"
   ]
  },
  {
   "cell_type": "markdown",
   "id": "745546f6",
   "metadata": {},
   "source": [
    "Let's also remove \"small objects\", i.e. groups of foreground pixels smaller than a predefined `min_size` value. "
   ]
  },
  {
   "cell_type": "code",
   "execution_count": null,
   "id": "779e326f",
   "metadata": {},
   "outputs": [],
   "source": [
    "from skimage.morphology import remove_small_objects\n",
    "\n",
    "binary_img = remove_small_objects(binary_img, min_size=500)\n",
    "\n",
    "plt.imshow(binary_img);"
   ]
  },
  {
   "cell_type": "markdown",
   "id": "2743f22d",
   "metadata": {},
   "source": [
    "Our binary mask now seems acceptable. From it, we can calculate, for example, the area fraction of positive pixels:"
   ]
  },
  {
   "cell_type": "code",
   "execution_count": null,
   "id": "ffd275c1",
   "metadata": {},
   "outputs": [],
   "source": [
    "area_fract = binary_img.sum() / binary_img.size\n",
    "\n",
    "print(\"Fraction of `True` pixels: \", area_fract)"
   ]
  },
  {
   "cell_type": "markdown",
   "id": "e99d92a1",
   "metadata": {},
   "source": [
    "## Analyzing individual objects\n",
    "\n",
    "To separate individual objects in our binary image, we can apply an algorithm known as **connected components labeling**. This algorithms identifies disconnected groups of pixels and assigns a different *label* value to each of them.\n",
    "\n",
    "In a \"labeled\" image array, values respresent object instances (the background is `0` by convention)."
   ]
  },
  {
   "cell_type": "code",
   "execution_count": null,
   "id": "1f179e4c",
   "metadata": {},
   "outputs": [],
   "source": [
    "from skimage.measure import label\n",
    "\n",
    "label_img = label(binary_img)\n",
    "\n",
    "plt.imshow(label_img, cmap=\"gnuplot\");"
   ]
  },
  {
   "cell_type": "markdown",
   "id": "9b143fee",
   "metadata": {},
   "source": [
    "Finally, Scikit-image provides functions for measuring object properties (shape and intensity features) in a labeled image (<a href=\"https://scikit-image.org/docs/0.25.x/api/skimage.measure.html#skimage.measure.regionprops\">docs</a>).\n",
    "\n",
    "We can represent the results in a tabular format, such as a <a href=\"https://pandas.pydata.org/\">Pandas DataFrame</a>."
   ]
  },
  {
   "cell_type": "code",
   "execution_count": null,
   "id": "da6b62e2",
   "metadata": {},
   "outputs": [],
   "source": [
    "import pandas as pd\n",
    "from skimage.measure import regionprops_table\n",
    "\n",
    "measurements = regionprops_table(label_img, intensity_image=image, properties=[\"label\", \"area\", \"centroid\", \"image_intensity\"])\n",
    "\n",
    "table = pd.DataFrame(measurements)\n",
    "\n",
    "table.sort_values(by=\"area\", ascending=False, inplace=True)\n",
    "\n",
    "table"
   ]
  },
  {
   "cell_type": "markdown",
   "id": "a5bb7dcb",
   "metadata": {},
   "source": [
    "Working with a labeled array allows us to select only pixels belonging to a single object. For example:"
   ]
  },
  {
   "cell_type": "code",
   "execution_count": null,
   "id": "72f92865",
   "metadata": {},
   "outputs": [],
   "source": [
    "row = table.iloc[0]\n",
    "\n",
    "plt.imshow(row.image_intensity)\n",
    "plt.title(f\"Biggest fish: {row.area} px.\")\n",
    "plt.show()"
   ]
  },
  {
   "cell_type": "markdown",
   "id": "fcf9e9bf",
   "metadata": {},
   "source": [
    "Another way of selecting values in an image array is via **filtering**.\n",
    "\n",
    "Here, we create a binary mask with `True` values in the selected object. We then create a copy of the original image and use our mask to set the pixel values *outside* the mask to zero."
   ]
  },
  {
   "cell_type": "code",
   "execution_count": null,
   "id": "ff525f46",
   "metadata": {},
   "outputs": [],
   "source": [
    "selected_object_mask = label_img == row.label\n",
    "\n",
    "big_fish_image = image.copy()\n",
    "big_fish_image[~selected_object_mask] = 0\n",
    "\n",
    "pos_x = row[\"centroid-0\"]\n",
    "pos_y = row[\"centroid-1\"]\n",
    "\n",
    "plt.imshow(big_fish_image)\n",
    "plt.title(f\"Centroid position: ({pos_x:.0f}, {pos_y:.0f})\")\n",
    "plt.scatter(pos_y, pos_x, s=50)\n",
    "plt.show()"
   ]
  },
  {
   "cell_type": "markdown",
   "id": "ea839399",
   "metadata": {},
   "source": [
    "As we can see, there's not *always* a bigger fish!"
   ]
  },
  {
   "cell_type": "markdown",
   "id": "e70e85ef",
   "metadata": {},
   "source": [
    "## Conclusion\n",
    "\n",
    "In this notebook, we've covered the basics of how to:\n",
    "\n",
    "- Open images using `imread` and display them using `imshow`.\n",
    "- Access array **attributes** (`shape`, `dtype`...) and **methods** (`min()`, `max()`...).\n",
    "- Use **indexing** (`image[10:20, 10:30]`) and **filtering** (`image > 50`) to select and modify pixels from an image array.\n",
    "- Find and use image processing functions and filters from Scikit-image.\n",
    "- Generate and work with **binary masks** and **labeled images**.\n",
    "- Measure and analyze individual **object properties**."
   ]
  },
  {
   "cell_type": "markdown",
   "id": "3867f66d-33d1-46e2-9b20-b7e4fb5c6f61",
   "metadata": {},
   "source": [
    "## Where to go next?\n",
    "\n",
    "We've just scratched the surface of how Python can be used for image analysis. There is much more to learn!\n",
    "\n",
    "Official documentation pages:\n",
    "\n",
    "- <a href=\"https://scikit-image.org/docs/stable/\">Scikit-image’s documentation</a>\n",
    "- <a href=\"https://numpy.org/doc/2.3/\">NumPy documentation</a>\n",
    "- <a href=\"https://matplotlib.org/stable/index.html\">Matplotlib documentation</a>\n",
    "\n",
    "From the <a href=\"https://imaging.epfl.ch/\">EPFL Center for Imaging</a>:\n",
    "\n",
    "- <a href=\"https://epfl-center-for-imaging.github.io/python-setup/\">Setting up Python for scientific image analysis</a> - Our short guide on how to to install, set up, and work with Python on your system.\n",
    "- <a href=\"https://github.com/EPFL-Center-for-Imaging/awesome-scientific-image-analysis\">Awesome Image Analysis</a> - Our curated list of online learning resources and image analysis tools."
   ]
  },
  {
   "cell_type": "code",
   "execution_count": null,
   "id": "05a526ce",
   "metadata": {},
   "outputs": [],
   "source": []
  }
 ],
 "metadata": {
  "kernelspec": {
   "display_name": "Python 3 (ipykernel)",
   "language": "python",
   "name": "python3"
  },
  "language_info": {
   "codemirror_mode": {
    "name": "ipython",
    "version": 3
   },
   "file_extension": ".py",
   "mimetype": "text/x-python",
   "name": "python",
   "nbconvert_exporter": "python",
   "pygments_lexer": "ipython3",
   "version": "3.10.18"
  }
 },
 "nbformat": 4,
 "nbformat_minor": 5
}
