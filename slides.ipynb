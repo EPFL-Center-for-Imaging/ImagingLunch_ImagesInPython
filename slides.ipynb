{
 "cells": [
  {
   "cell_type": "markdown",
   "id": "5cbb5648",
   "metadata": {
    "editable": true,
    "slideshow": {
     "slide_type": "slide"
    },
    "tags": []
   },
   "source": [
    "![logo](https://imaging.epfl.ch/resources/logo-for-gitlab.svg)\n",
    "\n",
    "<h1>Imaging Lunch: Introduction to Python for Image Analysis</h1>\n",
    "\n",
    "<img src=\"https://github.com/EPFL-Center-for-Imaging/ImagingLunch_ImagesInPython/blob/main/assets/imaging_fields.png?raw=true\" alt=\"cover_image\" height=\"200\"/>"
   ]
  },
  {
   "cell_type": "markdown",
   "id": "862a2cf8",
   "metadata": {
    "editable": true,
    "slideshow": {
     "slide_type": "subslide"
    },
    "tags": []
   },
   "source": [
    "➡️ <a href=\"https://imaging.epfl.ch/events-lunches\">Upcoming Imaging Lunches</a>"
   ]
  },
  {
   "cell_type": "markdown",
   "id": "57beb3bc",
   "metadata": {
    "editable": true,
    "slideshow": {
     "slide_type": "subslide"
    },
    "tags": []
   },
   "source": [
    "## Why use Python for image analysis?\n",
    "\n",
    "- ✅ Easy to learn and use\n",
    "- ✅ Free & open-source\n",
    "- ✅ Wide range of libraries\n",
    "- ✅ Implement custom functions & tools\n",
    "- ✅ Automate image analysis via scripts\n",
    "- ✅ Deep learning & data science\n",
    "- ✅ Explore data in Juptyer notebooks"
   ]
  },
  {
   "cell_type": "markdown",
   "id": "7e7473fb",
   "metadata": {
    "editable": true,
    "slideshow": {
     "slide_type": "subslide"
    },
    "tags": []
   },
   "source": [
    "➡️ <a href=\"https://epfl-center-for-imaging.github.io/python-intro-images/lab/index.html?path=python-intro%2FContent.ipynb\">Workshop material</a>"
   ]
  },
  {
   "cell_type": "code",
   "execution_count": null,
   "id": "85861d3f",
   "metadata": {
    "vscode": {
     "languageId": "plaintext"
    }
   },
   "outputs": [],
   "source": []
  }
 ],
 "metadata": {
  "kernelspec": {
   "display_name": "Python 3 (ipykernel)",
   "language": "python",
   "name": "python3"
  },
  "language_info": {
   "codemirror_mode": {
    "name": "ipython",
    "version": 3
   },
   "file_extension": ".py",
   "mimetype": "text/x-python",
   "name": "python",
   "nbconvert_exporter": "python",
   "pygments_lexer": "ipython3",
   "version": "3.10.18"
  }
 },
 "nbformat": 4,
 "nbformat_minor": 5
}
